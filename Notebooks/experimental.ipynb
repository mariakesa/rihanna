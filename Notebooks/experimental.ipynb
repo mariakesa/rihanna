{
 "cells": [
  {
   "cell_type": "code",
   "execution_count": null,
   "metadata": {},
   "outputs": [],
   "source": [
    "#Data from https://crcns.org/data-sets/challenges/ch-epfl-2009/about-ch-epfl-2009\n",
    "#https://brian2.readthedocs.io/en/stable/examples/frompapers.Brette_Gerstner_2005.html"
   ]
  },
  {
   "cell_type": "code",
   "execution_count": 1,
   "metadata": {},
   "outputs": [],
   "source": [
    "import sbi\n",
    "import numpy as np\n",
    "import matplotlib.pyplot as plt"
   ]
  },
  {
   "cell_type": "code",
   "execution_count": 3,
   "metadata": {},
   "outputs": [],
   "source": [
    "path='C:/Users/koester_lab/Documents/Maria/rihanna/crcns-ch-epfl-2009-challengeA/voltage_allrep.txt'\n",
    "current_path='C:/Users/koester_lab/Documents/Maria/rihanna/crcns-ch-epfl-2009-challengeA/current.txt'\n",
    "observations=np.loadtxt(path)"
   ]
  },
  {
   "cell_type": "code",
   "execution_count": 6,
   "metadata": {},
   "outputs": [
    {
     "name": "stdout",
     "output_type": "stream",
     "text": [
      "(390000, 13)\n"
     ]
    }
   ],
   "source": [
    "print(observations.shape)"
   ]
  },
  {
   "cell_type": "code",
   "execution_count": 16,
   "metadata": {},
   "outputs": [
    {
     "data": {
      "text/plain": [
       "[<matplotlib.lines.Line2D at 0x201a07af520>]"
      ]
     },
     "execution_count": 16,
     "metadata": {},
     "output_type": "execute_result"
    },
    {
     "data": {
      "image/png": "[encoded data removed]",
      "text/plain": [
       "<Figure size 432x288 with 1 Axes>"
      ]
     },
     "metadata": {
      "needs_background": "light"
     },
     "output_type": "display_data"
    }
   ],
   "source": [
    "plt.plot(observations[:98000,0])"
   ]
  },
  {
   "cell_type": "code",
   "execution_count": 49,
   "metadata": {},
   "outputs": [
    {
     "name": "stdout",
     "output_type": "stream",
     "text": [
      "[ 2.9153183e+02  9.2940407e+00  1.5856123e-02 -6.9494400e+01]\n",
      "\n",
      "[-0.0706     -0.0706     -0.0706     ... -0.07059993 -0.07059993\n",
      " -0.07059993]\n"
     ]
    },
    {
     "data": {
      "application/vnd.jupyter.widget-view+json": {
       "model_id": "06385561861d417981863184f0a5dd28",
       "version_major": 2,
       "version_minor": 0
      },
      "text/plain": [
       "HBox(children=(FloatProgress(value=0.0, description='Running 10 simulations.', max=10.0, style=ProgressStyle(d…"
      ]
     },
     "metadata": {},
     "output_type": "display_data"
    },
    {
     "name": "stdout",
     "output_type": "stream",
     "text": [
      "[-0.0706     -0.0706     -0.0706     ... -0.07059994 -0.07059994\n",
      " -0.07059994]\n",
      "[-0.0706     -0.0706     -0.0706     ... -0.07059992 -0.07059992\n",
      " -0.07059992]\n",
      "[-0.0706     -0.0706     -0.0706     ... -0.07059993 -0.07059993\n",
      " -0.07059993]\n",
      "[-0.0706     -0.0706     -0.0706     ... -0.07059993 -0.07059993\n",
      " -0.07059993]\n",
      "[-0.0706     -0.0706     -0.0706     ... -0.07059994 -0.07059994\n",
      " -0.07059994]\n",
      "[-0.0706     -0.0706     -0.0706     ... -0.07059993 -0.07059993\n",
      " -0.07059993]\n",
      "[-0.0706     -0.0706     -0.0706     ... -0.07059994 -0.07059994\n",
      " -0.07059994]\n",
      "[-0.0706     -0.0706     -0.0706     ... -0.07059992 -0.07059992\n",
      " -0.07059992]\n",
      "[-0.0706     -0.0706     -0.0706     ... -0.07059993 -0.07059993\n",
      " -0.07059993]\n",
      "[-0.0706     -0.0706     -0.0706     ... -0.07059993 -0.07059993\n",
      " -0.07059993]\n",
      "\n",
      "Neural network successfully converged after 60 epochs.\n"
     ]
    }
   ],
   "source": [
    "import numpy as np\n",
    "import torch\n",
    "\n",
    "# visualization\n",
    "import matplotlib as mpl\n",
    "import matplotlib.pyplot as plt\n",
    "\n",
    "# sbi\n",
    "import sbi.utils as utils_\n",
    "from sbi.inference.base import infer\n",
    "\n",
    "from brian2 import *\n",
    "\n",
    "def simulator(parameter_set):\n",
    "    tauw=parameter_set[0].item()*ms\n",
    "    a=parameter_set[1].item()*nS\n",
    "    b=parameter_set[2].item()*nA\n",
    "    Vr = parameter_set[3].item()*mV\n",
    "    \n",
    "    # Parameters\n",
    "    C = 281 * pF\n",
    "    gL = 30 * nS\n",
    "    taum = C / gL\n",
    "    EL = -70.6 * mV\n",
    "    VT = -50.4 * mV\n",
    "    DeltaT = 2 * mV\n",
    "    Vcut = VT + 5 * DeltaT\n",
    "    \n",
    "    I=np.loadtxt('C:/Users/koester_lab/Documents/Maria/rihanna/crcns-ch-epfl-2009-challengeA/current.txt')\n",
    "    dt=1./10000\n",
    "    \n",
    "    t = np.arange(0, len(I), 1)*dt\n",
    "    \n",
    "    eqs = \"\"\"\n",
    "    dvm/dt = (gL*(EL - vm) + gL*DeltaT*exp((vm - VT)/DeltaT) + I - w)/C : volt\n",
    "    dw/dt = (a*(vm - EL) - w)/tauw : amp\n",
    "    I : amp\n",
    "    \"\"\"\n",
    "\n",
    "    neuron = NeuronGroup(1, model=eqs, threshold='vm>Vcut',\n",
    "                         reset=\"vm=Vr; w+=b\", method='euler')\n",
    "    neuron.vm = EL\n",
    "    trace = StateMonitor(neuron, 'vm', record=0)\n",
    "    \n",
    "    run(39000 * ms)\n",
    "    \n",
    "    #print(trace[0].vm[:])\n",
    "    \n",
    "    sim_dat=np.array(trace[0].vm[:])\n",
    "    print(sim_dat)\n",
    "    return sim_dat\n",
    "\n",
    "def make_prior():\n",
    "    #tauw, a, b, Vr = 144*ms, 4*nS, 0.0805*nA, -70.6*mV\n",
    "    prior_min = [100,1,0.001,-80]\n",
    "    prior_max = [300,10,0.1,-60]\n",
    "    prior = utils_.torchutils.BoxUniform(low=torch.as_tensor(prior_min), \n",
    "                                        high=torch.as_tensor(prior_max))\n",
    "    print(np.array(prior.sample((1,)))[0])\n",
    "    return prior\n",
    "\n",
    "prior=make_prior()\n",
    "posterior = infer(simulator, prior, method='SNPE', \n",
    "                  num_simulations=10, num_workers=1)\n",
    "    "
   ]
  },
  {
   "cell_type": "code",
   "execution_count": 51,
   "metadata": {},
   "outputs": [
    {
     "data": {
      "application/vnd.jupyter.widget-view+json": {
       "model_id": "33a7e0ae01754593bad18d32e177a3ca",
       "version_major": 2,
       "version_minor": 0
      },
      "text/plain": [
       "HBox(children=(FloatProgress(value=0.0, description='Drawing 100 posterior samples', style=ProgressStyle(descr…"
      ]
     },
     "metadata": {},
     "output_type": "display_data"
    },
    {
     "name": "stdout",
     "output_type": "stream",
     "text": [
      "\n"
     ]
    }
   ],
   "source": [
    "samples = posterior.sample((100,), \n",
    "                           x=observations[:,0])"
   ]
  },
  {
   "cell_type": "code",
   "execution_count": 52,
   "metadata": {},
   "outputs": [],
   "source": [
    "samples=samples.numpy()"
   ]
  },
  {
   "cell_type": "code",
   "execution_count": 54,
   "metadata": {
    "scrolled": true
   },
   "outputs": [
    {
     "name": "stdout",
     "output_type": "stream",
     "text": [
      "(100, 4)\n"
     ]
    }
   ],
   "source": [
    "print(samples.shape)"
   ]
  },
  {
   "cell_type": "code",
   "execution_count": 55,
   "metadata": {},
   "outputs": [
    {
     "name": "stdout",
     "output_type": "stream",
     "text": [
      "[-0.0706     -0.0706     -0.0706     ... -0.07059992 -0.07059992\n",
      " -0.07059992]\n"
     ]
    },
    {
     "data": {
      "text/plain": [
       "[<matplotlib.lines.Line2D at 0x202503b5f10>]"
      ]
     },
     "execution_count": 55,
     "metadata": {},
     "output_type": "execute_result"
    },
    {
     "data": {
      "image/png": "[encoded data removed]",
      "text/plain": [
       "<Figure size 432x288 with 1 Axes>"
      ]
     },
     "metadata": {
      "needs_background": "light"
     },
     "output_type": "display_data"
    }
   ],
   "source": [
    "t=simulator(samples[0,:])\n",
    "plt.plot(t)"
   ]
  }
 ],
 "metadata": {
  "kernelspec": {
   "display_name": "Python 3",
   "language": "python",
   "name": "python3"
  },
  "language_info": {
   "codemirror_mode": {
    "name": "ipython",
    "version": 3
   },
   "file_extension": ".py",
   "mimetype": "text/x-python",
   "name": "python",
   "nbconvert_exporter": "python",
   "pygments_lexer": "ipython3",
   "version": "3.8.3"
  }
 },
 "nbformat": 4,
 "nbformat_minor": 4
}
